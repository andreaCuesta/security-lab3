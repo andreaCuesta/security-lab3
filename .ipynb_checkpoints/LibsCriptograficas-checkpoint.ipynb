{
 "cells": [
  {
   "cell_type": "code",
   "execution_count": 6,
   "metadata": {},
   "outputs": [
    {
     "name": "stdout",
     "output_type": "stream",
     "text": [
      "Collecting pycryptodome\n",
      "  Downloading pycryptodome-3.9.8-cp38-cp38-manylinux1_x86_64.whl (13.7 MB)\n",
      "\u001b[K     |████████████████████████████████| 13.7 MB 1.9 MB/s eta 0:00:01    |██████████████████▍             | 7.9 MB 1.6 MB/s eta 0:00:04\n",
      "\u001b[?25hInstalling collected packages: pycryptodome\n",
      "Successfully installed pycryptodome-3.9.8\n",
      "\u001b[33mWARNING: You are using pip version 20.1.1; however, version 20.2.2 is available.\n",
      "You should consider upgrading via the '/usr/bin/python3.8 -m pip install --upgrade pip' command.\u001b[0m\n"
     ]
    }
   ],
   "source": [
    "!pip install pycryptodome"
   ]
  },
  {
   "cell_type": "markdown",
   "metadata": {},
   "source": [
    "**a.** Generar y verificar un Hash (Message Digest) más Salt usando SHA256 o superior"
   ]
  },
  {
   "cell_type": "code",
   "execution_count": 27,
   "metadata": {},
   "outputs": [
    {
     "name": "stdout",
     "output_type": "stream",
     "text": [
      "Password Hash: 9a3d5cbb55a0dc46b7dfab49fde89ebe87a712c7f3a556f5be270ce7c77cfea4\n",
      "Password Verification: True\n"
     ]
    }
   ],
   "source": [
    "from Crypto.Hash import SHA256\n",
    "import os\n",
    "\n",
    "salt = os.urandom(32)\n",
    "hash_object = SHA256.new(data= b'password' + salt)\n",
    "password_hash = hash_object.hexdigest()\n",
    "print(f'Password Hash: {password_hash}')\n",
    "\n",
    "def check_password(clear_password, password_hash, salt):\n",
    "    password = bytes(clear_password, encoding='utf-8')\n",
    "    password_salt = password + salt\n",
    "    \n",
    "    return SHA256.new(data= password_salt).hexdigest() == password_hash\n",
    "\n",
    "response = check_password('password', password_hash, salt)\n",
    "print(f'Password Verification: {response}')"
   ]
  },
  {
   "cell_type": "code",
   "execution_count": 1,
   "metadata": {},
   "outputs": [
    {
     "name": "stdout",
     "output_type": "stream",
     "text": [
      "Collecting ECPy\n",
      "  Downloading ECPy-1.2.3.tar.gz (37 kB)\n",
      "Using legacy setup.py install for ECPy, since package 'wheel' is not installed.\n",
      "Installing collected packages: ECPy\n",
      "    Running setup.py install for ECPy ... \u001b[?25ldone\n",
      "\u001b[?25hSuccessfully installed ECPy-1.2.3\n",
      "\u001b[33mWARNING: You are using pip version 20.1.1; however, version 20.2.2 is available.\n",
      "You should consider upgrading via the '/usr/bin/python3.8 -m pip install --upgrade pip' command.\u001b[0m\n"
     ]
    }
   ],
   "source": [
    "!pip install ECPy"
   ]
  },
  {
   "cell_type": "markdown",
   "metadata": {},
   "source": [
    "**b.** Generar una firma Digital usando algoritmo híbrido y método largo"
   ]
  },
  {
   "cell_type": "code",
   "execution_count": 1,
   "metadata": {},
   "outputs": [
    {
     "name": "stdout",
     "output_type": "stream",
     "text": [
      "Signature: b'\\x07\\xf34\\xf4\\xe5\\xe8C\\xf2\\x14\\xf4\\xc7\\r\\x7fz\\x1a\\xd62_6\\x1f\\xfa\\xd65\\xfe)\\xa2S\\xd2\\r\\x89\\x87\\x13M$\\xc4\\xa7T8\\x19\\x9d\\xa6\\x06\\x8d5\\x92\\xdcqyE\\x98]>\\xca\\xe8\\xa8\\x02'\n"
     ]
    }
   ],
   "source": [
    "# Hybrid Algorithm\n",
    "\n",
    "from Crypto.PublicKey import DSA\n",
    "from Crypto.Signature import DSS\n",
    "from Crypto.Hash import SHA256\n",
    "\n",
    "# Create a new DSA key\n",
    "key = DSA.generate(2048)\n",
    "\n",
    "# Sign a message\n",
    "message = b\"Third laboratory\"\n",
    "hash_obj = SHA256.new(message)\n",
    "signer = DSS.new(key, 'fips-186-3')\n",
    "signature1 = signer.sign(hash_obj)\n",
    "print(f'Signature: {signature1}')"
   ]
  },
  {
   "cell_type": "code",
   "execution_count": 2,
   "metadata": {},
   "outputs": [
    {
     "name": "stdout",
     "output_type": "stream",
     "text": [
      "Signature: 0x60e4334f4bf108e1ee5dab7cf34daa6419c07d865b2101a2f6ebae965e27c2fcd8e5c20a50f9208a21292911ff7649cf58be8aae4ddd2306f32a0161c8b855e9ef41f1f99521e21a1d088333492dfaae46a0bb0d8130c327948b9837f366df7600d074d614ede659d15e70477050629977fdb0449de3311d259d3453cf5ff2bf00bc2d5fd40ad7e0cdc38bb64ee5e8d3009514ef5fa01873af80b450792a6a36562270c5296411fddad49efadbc1d51e4bc25a7b9182aaea14729225220c9e9e7025956f6196c54ac11d6c66897fe4779da2b3f3b3723b8aebe72096450aeddf7f530b0922338155d02d465ad24270bccb6ed901e48a69fdda62f2c0e807b3fb\n"
     ]
    }
   ],
   "source": [
    "# Long method\n",
    "from Crypto.PublicKey import RSA\n",
    "from hashlib import sha512\n",
    "\n",
    "# Create a new RSA key\n",
    "msg = b'Third laboratory'\n",
    "keyPair = RSA.generate(bits=2048)\n",
    "\n",
    "# Sign the message\n",
    "hash = int.from_bytes(sha512(msg).digest(), byteorder='big')\n",
    "signature2 = pow(hash, keyPair.d, keyPair.n)\n",
    "print(\"Signature:\", hex(signature2))"
   ]
  },
  {
   "cell_type": "markdown",
   "metadata": {},
   "source": [
    "**c.** Cifrar y Descifrar un mensaje con Algoritmo Simétrico AES"
   ]
  },
  {
   "cell_type": "code",
   "execution_count": 14,
   "metadata": {},
   "outputs": [
    {
     "name": "stdout",
     "output_type": "stream",
     "text": [
      "b'\\xc2\\xf1\\\\)s#@\\x1f\\x94\\x90\\xc6\\xcf\\xfa7\\xe6\\xbb'\n",
      "b'Text Plain Test1'\n"
     ]
    }
   ],
   "source": [
    "from Crypto.Cipher import AES\n",
    "\n",
    "# SENDER\n",
    "key = b'0123456789abcdef'\n",
    "cipher = AES.new(key, AES.MODE_ECB)\n",
    "message = b'Text Plain Test1'\n",
    "ciphertext = cipher.encrypt(message)\n",
    "print(ciphertext)\n",
    "\n",
    "# RECEIVER\n",
    "cipher2 = AES.new(key, AES.MODE_ECB)\n",
    "plain_text = cipher2.decrypt(ciphertext)\n",
    "print(plain_text)"
   ]
  },
  {
   "cell_type": "markdown",
   "metadata": {},
   "source": [
    "**d.** Cifrar y Descifrar un mensaje con Criptografía asimétrica usando RSA en 2048 bits"
   ]
  },
  {
   "cell_type": "code",
   "execution_count": 19,
   "metadata": {},
   "outputs": [
    {
     "name": "stdout",
     "output_type": "stream",
     "text": [
      "Text Plain Test2\n"
     ]
    }
   ],
   "source": [
    "from Crypto.PublicKey import RSA\n",
    "from Crypto.Cipher import AES, PKCS1_OAEP\n",
    "from Crypto.Random import get_random_bytes\n",
    "\n",
    "#SENDER\n",
    "key = RSA.generate(2048)\n",
    "public_key = key.publickey()\n",
    "msg = \"Text Plain Test2\".encode(\"utf-8\")\n",
    "\n",
    "session_key = get_random_bytes(16)\n",
    "\n",
    "# Encrypt the session key with the public RSA key\n",
    "cipher_rsa = PKCS1_OAEP.new(public_key)\n",
    "enc_session_key = cipher_rsa.encrypt(session_key)\n",
    "\n",
    "# Encrypt the data with the AES session key\n",
    "cipher_aes = AES.new(session_key, AES.MODE_ECB)\n",
    "ciphertext = cipher_aes.encrypt(msg)\n",
    "\n",
    "# Export keys for being used by the receiver\n",
    "private_key = key.export_key()\n",
    "file_out = open(\"private.pem\", \"wb\")\n",
    "file_out.write(private_key)\n",
    "file_out.close()\n",
    "\n",
    "public_key = key.publickey().export_key()\n",
    "file_out = open(\"public.pem\", \"wb\")\n",
    "file_out.write(public_key)\n",
    "file_out.close()\n",
    "\n",
    "#RECEIVER\n",
    "# Import private key\n",
    "private_key = RSA.import_key(open(\"private.pem\").read())\n",
    "\n",
    "# Decrypt the session key with the private RSA key\n",
    "cipher_rsa = PKCS1_OAEP.new(private_key)\n",
    "session_key = cipher_rsa.decrypt(enc_session_key)\n",
    "\n",
    "# Decrypt the msg with the AES session key\n",
    "cipher_aes = AES.new(session_key, AES.MODE_ECB)\n",
    "decrypt_msg = cipher_aes.decrypt(ciphertext)\n",
    "print(decrypt_msg.decode(\"utf-8\"))"
   ]
  },
  {
   "cell_type": "markdown",
   "metadata": {},
   "source": [
    "**e.** Firmar y verificar un mensaje usando Criptografía de Curvas Elípticas"
   ]
  },
  {
   "cell_type": "code",
   "execution_count": 3,
   "metadata": {},
   "outputs": [
    {
     "name": "stdout",
     "output_type": "stream",
     "text": [
      "Verification: True\n"
     ]
    }
   ],
   "source": [
    "from ecpy.curves import Curve,Point\n",
    "from ecpy.keys import ECPublicKey, ECPrivateKey\n",
    "from ecpy.ecdsa import ECDSA\n",
    "\n",
    "cv = Curve.get_curve('secp256k1')\n",
    "pu_key = ECPublicKey(Point(0x65d5b8bf9ab1801c9f168d4815994ad35f1dcb6ae6c7a1a303966b677b813b00, 0xe6b865e529b8ecbf71cf966e900477d49ced5846d7662dd2dd11ccd55c0aff7f,\n",
    "cv))\n",
    "pv_key = ECPrivateKey(0xfb26a4e75eec75544c0f44e937dcf5ee6355c7176600b9688c667e5c283b43c5, cv)\n",
    "\n",
    "\n",
    "signer = ECDSA()\n",
    "sig    = signer.sign(b'Test message',pv_key)\n",
    "response = signer.verify(b'Test message', sig, pu_key)\n",
    "print(f'Verification: {response}')"
   ]
  }
 ],
 "metadata": {
  "kernelspec": {
   "display_name": "Python 3",
   "language": "python",
   "name": "python3"
  },
  "language_info": {
   "codemirror_mode": {
    "name": "ipython",
    "version": 3
   },
   "file_extension": ".py",
   "mimetype": "text/x-python",
   "name": "python",
   "nbconvert_exporter": "python",
   "pygments_lexer": "ipython3",
   "version": "3.8.2"
  }
 },
 "nbformat": 4,
 "nbformat_minor": 4
}
